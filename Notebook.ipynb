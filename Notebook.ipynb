{
 "cells": [
  {
   "cell_type": "markdown",
   "metadata": {},
   "source": [
    "# Zahra Khatibi - 610398119 - Compressing Images using Cosine Transform"
   ]
  },
  {
   "cell_type": "code",
   "execution_count": 9,
   "metadata": {},
   "outputs": [],
   "source": [
    "import numpy as np\n",
    "from PIL import Image\n",
    "import matplotlib.pyplot as plt\n",
    "from itertools import groupby\n",
    "import sys"
   ]
  },
  {
   "cell_type": "markdown",
   "metadata": {},
   "source": [
    "# Quantization Matrix"
   ]
  },
  {
   "cell_type": "code",
   "execution_count": 10,
   "metadata": {},
   "outputs": [],
   "source": [
    "quantization_matrix = np.array([[16, 11, 10, 16, 24, 40, 51, 61],[12, 12, 14, 19, 26, 58, 60, 55],\n",
    "                                [14, 13, 16, 24, 40, 57, 69, 56],[14, 17, 22, 29, 51, 87, 80, 62],\n",
    "                                [18, 22, 37, 56, 68, 109, 103, 77],[24, 35, 55, 64, 81, 104, 113, 92],\n",
    "                                [49, 64, 78, 87, 103, 121, 120, 101],[72, 92, 95, 98, 112, 100, 103, 99]])"
   ]
  },
  {
   "cell_type": "markdown",
   "metadata": {},
   "source": [
    "# Discrete cosine transform"
   ]
  },
  {
   "cell_type": "code",
   "execution_count": 11,
   "metadata": {},
   "outputs": [],
   "source": [
    "CN = np.zeros((8, 8))        \n",
    "for i in range(8):\n",
    "    for j in range(8):\n",
    "        if i==0:\n",
    "            CN[i, j] = 1/np.sqrt(8)\n",
    "        else:\n",
    "            CN[i, j] = np.sqrt(2/8)*np.cos((np.pi*i*(2*j+1))/(2*8))\n",
    "            \n",
    "def cos_trans(matrix): \n",
    "    m1 = CN.dot(matrix)\n",
    "    m2 = m1.dot(CN.T)\n",
    "    return m2\n",
    "\n",
    "def quanting(matrix):                   ######### this part is lossy #########\n",
    "    m1 = matrix/quantization_matrix\n",
    "    return np.round(m1)\n",
    "\n",
    "def dequant(matrix):        \n",
    "    return matrix*quantization_matrix\n",
    "\n",
    "def cos_trans_inv(matrix):\n",
    "    m1 = CN.T.dot(matrix)\n",
    "    m2 = m1.dot(CN)\n",
    "    return m2\n",
    "\n",
    "def divide_and_set(matrix,func):      # divide to 8*8 group\n",
    "    N, M = matrix.shape\n",
    "    res_matrix = np.zeros((N, M))\n",
    "    for i in range(0, N, 8):\n",
    "        for j in range(0, M, 8):\n",
    "            chunk = matrix[i:i+8, j:j+8]\n",
    "            res_chunk = func(chunk)\n",
    "            res_matrix[i:i+8, j:j+8] = res_chunk\n",
    "    return res_matrix\n",
    " \n",
    "######################### compression and decompression ########################### \n",
    "\n",
    "def compression(matrix):\n",
    "    flat_matrix = matrix.flatten()\n",
    "    encoded = [(len(list(group)), val) for val, group in groupby(flat_matrix)]\n",
    "    return encoded\n",
    "\n",
    "def decompression(matrix):\n",
    "    res=[]\n",
    "    for count,value in matrix:\n",
    "        res += [value]*count\n",
    "    return np.array(res).reshape((N,M))"
   ]
  },
  {
   "cell_type": "markdown",
   "metadata": {},
   "source": [
    "# Open Image File"
   ]
  },
  {
   "cell_type": "code",
   "execution_count": 12,
   "metadata": {},
   "outputs": [],
   "source": [
    "raw_image = Image.open(\"D:\\IMG_7475.JPG\")\n",
    "image = np.array(raw_image)\n",
    "\n",
    "# mazrab 8 konim baraye sadegi\n",
    "N,M,p = image.shape\n",
    "N -= N%8\n",
    "M -= M%8\n",
    "image = image[:N,:M]"
   ]
  },
  {
   "cell_type": "markdown",
   "metadata": {},
   "source": [
    "# 1: Separate Color"
   ]
  },
  {
   "cell_type": "code",
   "execution_count": 13,
   "metadata": {},
   "outputs": [],
   "source": [
    "red_matrix = image[:,:,0].astype(int)\n",
    "green_matrix = image[:,:,1].astype(int)\n",
    "blue_matrix = image[:,:,2].astype(int)\n",
    "# scaling\n",
    "red_matrix -= 127\n",
    "green_matrix -= 127\n",
    "blue_matrix -= 127"
   ]
  },
  {
   "cell_type": "markdown",
   "metadata": {},
   "source": [
    "# 2: Transform"
   ]
  },
  {
   "cell_type": "code",
   "execution_count": 14,
   "metadata": {},
   "outputs": [],
   "source": [
    "red_dct = divide_and_set(red_matrix,cos_trans)\n",
    "green_dct = divide_and_set(green_matrix,cos_trans)\n",
    "blue_dct = divide_and_set(blue_matrix,cos_trans)"
   ]
  },
  {
   "cell_type": "markdown",
   "metadata": {},
   "source": [
    "# 3: Quantize"
   ]
  },
  {
   "cell_type": "code",
   "execution_count": 15,
   "metadata": {},
   "outputs": [],
   "source": [
    "red_q = divide_and_set(red_dct,quanting)\n",
    "green_q = divide_and_set(green_dct,quanting)\n",
    "blue_q = divide_and_set(blue_dct,quanting)"
   ]
  },
  {
   "cell_type": "markdown",
   "metadata": {},
   "source": [
    "# 4: compress"
   ]
  },
  {
   "cell_type": "code",
   "execution_count": 16,
   "metadata": {},
   "outputs": [],
   "source": [
    "red_comp = compression(red_q)\n",
    "green_comp = compression(green_q)\n",
    "blue_comp = compression(blue_q)"
   ]
  },
  {
   "cell_type": "markdown",
   "metadata": {},
   "source": [
    "# Print Result"
   ]
  },
  {
   "cell_type": "code",
   "execution_count": 17,
   "metadata": {},
   "outputs": [
    {
     "name": "stdout",
     "output_type": "stream",
     "text": [
      "Zeros rate is: 93\n",
      "Compression rate is: 79\n"
     ]
    }
   ],
   "source": [
    "print(f'Zeros rate is: {int((np.size(red_q)-np.count_nonzero(red_q))*100/np.size(red_q))}')\n",
    "print(f'Compression rate is: {100-int(sys.getsizeof(red_comp)*100/sys.getsizeof(red_matrix))}')"
   ]
  },
  {
   "cell_type": "markdown",
   "metadata": {},
   "source": [
    "# Decoding Reverse"
   ]
  },
  {
   "cell_type": "markdown",
   "metadata": {},
   "source": [
    "# 4': Decompress"
   ]
  },
  {
   "cell_type": "code",
   "execution_count": 18,
   "metadata": {},
   "outputs": [],
   "source": [
    "red_decomp = decompression(red_comp)\n",
    "green_decomp = decompression(green_comp) \n",
    "blue_decomp = decompression(blue_comp) "
   ]
  },
  {
   "cell_type": "markdown",
   "metadata": {},
   "source": [
    "# 3': Dequantize"
   ]
  },
  {
   "cell_type": "code",
   "execution_count": 19,
   "metadata": {},
   "outputs": [],
   "source": [
    "red_dq = divide_and_set(red_decomp,dequant)\n",
    "green_dq = divide_and_set(green_decomp,dequant)\n",
    "blue_dq = divide_and_set(blue_decomp,dequant)"
   ]
  },
  {
   "cell_type": "markdown",
   "metadata": {},
   "source": [
    "# 2': Inverse Transform\n"
   ]
  },
  {
   "cell_type": "code",
   "execution_count": 20,
   "metadata": {},
   "outputs": [],
   "source": [
    "red_matrix_ext = divide_and_set(red_dq,cos_trans_inv)\n",
    "green_matrix_ext = divide_and_set(green_dq,cos_trans_inv)\n",
    "blue_matrix_ext = divide_and_set(blue_dq,cos_trans_inv)"
   ]
  },
  {
   "cell_type": "markdown",
   "metadata": {},
   "source": [
    "# 1' : Mix Color"
   ]
  },
  {
   "cell_type": "code",
   "execution_count": 21,
   "metadata": {},
   "outputs": [],
   "source": [
    "red_matrix_ext2 = (red_matrix_ext+127).astype(np.uint8)\n",
    "green_matrix_ext2 = (green_matrix_ext+127).astype(np.uint8)\n",
    "blue_matrix_ext2 = (blue_matrix_ext+127).astype(np.uint8)\n",
    "rgb = np.dstack((red_matrix_ext2,green_matrix_ext2,blue_matrix_ext2))\n",
    "revived_image = Image.fromarray(rgb, \"RGB\")"
   ]
  },
  {
   "cell_type": "markdown",
   "metadata": {},
   "source": [
    "# show image"
   ]
  },
  {
   "cell_type": "markdown",
   "metadata": {},
   "source": [
    "## raw image"
   ]
  },
  {
   "cell_type": "code",
   "execution_count": 29,
   "metadata": {},
   "outputs": [],
   "source": [
    "raw_image"
   ]
  },
  {
   "cell_type": "markdown",
   "metadata": {},
   "source": [
    "<img src=\"qq.png\" alt=\"Example Image\" width=\"70%\">"
   ]
  },
  {
   "cell_type": "markdown",
   "metadata": {},
   "source": [
    "## revived image"
   ]
  },
  {
   "cell_type": "code",
   "execution_count": 30,
   "metadata": {},
   "outputs": [],
   "source": [
    "revived_image"
   ]
  },
  {
   "cell_type": "markdown",
   "metadata": {},
   "source": [
    "<img src=\"pp.png\" alt=\"Example Image\" width=\"70%\">"
   ]
  },
  {
   "cell_type": "markdown",
   "metadata": {},
   "source": [
    "## Distance of images"
   ]
  },
  {
   "cell_type": "code",
   "execution_count": 24,
   "metadata": {},
   "outputs": [
    {
     "name": "stdout",
     "output_type": "stream",
     "text": [
      "Distance of images: 68547109.58408792\n"
     ]
    }
   ],
   "source": [
    "print(f'Distance of images: {np.sum((red_matrix_ext-red_matrix)**2)}')"
   ]
  },
  {
   "cell_type": "markdown",
   "metadata": {},
   "source": [
    "# All result"
   ]
  },
  {
   "cell_type": "code",
   "execution_count": 25,
   "metadata": {},
   "outputs": [
    {
     "name": "stdout",
     "output_type": "stream",
     "text": [
      "Zeros rate is: 93\n",
      "Compression rate is: 79\n",
      "Distance of images: 68547109.58408792\n"
     ]
    }
   ],
   "source": [
    "print(f'Zeros rate is: {int((np.size(red_q)-np.count_nonzero(red_q))*100/np.size(red_q))}') \n",
    "print(f'Compression rate is: {100-int(sys.getsizeof(red_comp)*100/sys.getsizeof(red_matrix))}')\n",
    "print(f'Distance of images: {np.sum((red_matrix_ext-red_matrix)**2)}') # use sqrt(sigma |ui|^2) ###### norm 2 #####"
   ]
  }
 ],
 "metadata": {
  "kernelspec": {
   "display_name": "Python 3",
   "language": "python",
   "name": "python3"
  },
  "language_info": {
   "codemirror_mode": {
    "name": "ipython",
    "version": 3
   },
   "file_extension": ".py",
   "mimetype": "text/x-python",
   "name": "python",
   "nbconvert_exporter": "python",
   "pygments_lexer": "ipython3",
   "version": "3.8.3"
  }
 },
 "nbformat": 4,
 "nbformat_minor": 4
}
